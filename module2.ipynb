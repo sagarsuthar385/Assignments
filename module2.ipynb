{
 "cells": [
  {
   "cell_type": "code",
   "execution_count": 3,
   "metadata": {},
   "outputs": [
    {
     "name": "stdout",
     "output_type": "stream",
     "text": [
      "Your input number is zero\n"
     ]
    }
   ],
   "source": [
    "# 1.Write a Python program to check if a number is positive, negative or zero.\n",
    "n=float(input(\"Enter the number\"))\n",
    "if n>0:\n",
    "    print(\"Your input number is positive\")\n",
    "elif n<0:\n",
    "    print(\"Your input number is nagative\")\n",
    "else:\n",
    "    print(\"Your input number is zero\")"
   ]
  },
  {
   "cell_type": "code",
   "execution_count": 5,
   "metadata": {},
   "outputs": [
    {
     "name": "stdout",
     "output_type": "stream",
     "text": [
      "Factorial of the number is:  120\n"
     ]
    }
   ],
   "source": [
    "# 2.Write a Python program to get the Factorial number of given number.\n",
    "a=int(input(\"Enter number:\"))\n",
    "f=1\n",
    "while(a>0):\n",
    "    f=f*a\n",
    "    a=a-1\n",
    "print(\"Factorial of the number is: \",f)\n"
   ]
  },
  {
   "cell_type": "code",
   "execution_count": 88,
   "metadata": {},
   "outputs": [
    {
     "name": "stdout",
     "output_type": "stream",
     "text": [
      "0\n",
      "1\n",
      "1\n",
      "2\n",
      "3\n",
      "5\n",
      "8\n",
      "13\n",
      "21\n",
      "34\n",
      "55\n"
     ]
    }
   ],
   "source": [
    "# 3.Write a Python program to get the Fibonacci series of given range\n",
    "a=0\n",
    "b=1\n",
    "print(a)\n",
    "print(b)\n",
    "for c in range(1,10):  \n",
    "      c=a+b\n",
    "      a=b\n",
    "      b=c\n",
    "         \n",
    "      print(c)"
   ]
  },
  {
   "cell_type": "code",
   "execution_count": null,
   "metadata": {},
   "outputs": [],
   "source": [
    "# 4.How memory is managed in Python? \n",
    "# Ans:-Memory management in Python involves a private heap containing all Python objects \n",
    "# and data structures. The management of this private heap is ensured internally by the \n",
    "# Python memory manager."
   ]
  },
  {
   "cell_type": "code",
   "execution_count": null,
   "metadata": {},
   "outputs": [],
   "source": [
    "# 5.What is the purpose continue statement in python? \n",
    "#The continue statement in Python returns the control to the beginning of the while loop.\n",
    "#The continue statement rejects all the remaining statements in the current iteration of\n",
    "#the loop and moves the control back to the top of the loop. The continue statement can be \n",
    "#used in both while and for loops.\n"
   ]
  },
  {
   "cell_type": "code",
   "execution_count": 93,
   "metadata": {},
   "outputs": [
    {
     "name": "stdout",
     "output_type": "stream",
     "text": [
      "with temp\n",
      "11\n",
      "12\n"
     ]
    }
   ],
   "source": [
    "# 6.Write python program that swap two number with temp variable. \n",
    "a=int(input(\"Enter the value of a: \"))\n",
    "b=int(input(\"Enter the value of b: \"))\n",
    "print(\"with temp\")\n",
    "temp=a\n",
    "a=b\n",
    "b=temp\n",
    "print(a)\n",
    "print(b)\n"
   ]
  },
  {
   "cell_type": "code",
   "execution_count": 90,
   "metadata": {},
   "outputs": [
    {
     "name": "stdout",
     "output_type": "stream",
     "text": [
      "without temp\n",
      "11\n",
      "12\n"
     ]
    }
   ],
   "source": [
    "# 6.Write python program that swap two number without temp variable. \n",
    "a=int(input(\"Enter the value of a: \"))\n",
    "b=int(input(\"Enter the value of b: \"))\n",
    "print(\"without temp\")\n",
    "a,b=b,a\n",
    "print(a)\n",
    "print(b)"
   ]
  },
  {
   "cell_type": "code",
   "execution_count": 36,
   "metadata": {},
   "outputs": [
    {
     "name": "stdout",
     "output_type": "stream",
     "text": [
      "odd\n"
     ]
    }
   ],
   "source": [
    "# 7.Write a Python program to find whether a given number is even or odd, \n",
    "# print out an appropriate message to the user.\n",
    "a=int(input(\"Enter the value of a: \"))\n",
    "if (a%2)==0:   \n",
    "    print(\"even\")\n",
    "else:\n",
    "    print(\"odd\")  "
   ]
  },
  {
   "cell_type": "code",
   "execution_count": 1,
   "metadata": {},
   "outputs": [
    {
     "name": "stdout",
     "output_type": "stream",
     "text": [
      "ssds is not vowel\n"
     ]
    }
   ],
   "source": [
    "# 8.Write a Python program to test whether a passed letter is a vowel or not.\n",
    "a=input(\"Enter the letter: \").lower()\n",
    "if a==\"a\" or a==\"e\" or a==\"i\" or a==\"o\" or a==\"u\":\n",
    "    print(a,\"is vowel\")\n",
    "else:\n",
    "    print(a,\"is not vowel\")    "
   ]
  },
  {
   "cell_type": "code",
   "execution_count": 48,
   "metadata": {},
   "outputs": [
    {
     "name": "stdout",
     "output_type": "stream",
     "text": [
      "sum=  6\n"
     ]
    }
   ],
   "source": [
    "# 9.Write a Python program to sum of three given integers. However, if two values\n",
    "#are equal sum will be zero\n",
    "n1=int(input(\"Enter first number: \"))\n",
    "n2=int(input(\"Enter second number: \"))\n",
    "n3=int(input(\"Enter third number: \"))\n",
    "if n1==n2 or n1==n3 or n2==n3 :\n",
    "    sum=0\n",
    "    print(\"sum= \", sum)\n",
    "else:\n",
    "    sum=n1+n2+n3\n",
    "    print(\"sum= \",sum)    "
   ]
  },
  {
   "cell_type": "code",
   "execution_count": 58,
   "metadata": {},
   "outputs": [
    {
     "name": "stdout",
     "output_type": "stream",
     "text": [
      "Intiger value is true\n"
     ]
    }
   ],
   "source": [
    "# 10.Write a Python program that will return true if the two given integer values \n",
    "# are equal or their sum or difference is 5\n",
    "n1=int(input(\"Enter first number: \"))\n",
    "opr=input(\"Enter the opr(+/-): \")\n",
    "n2=int(input(\"Enter second number: \"))\n",
    "if opr==\"+\" and n1==n2 or(n1+n2)==5:  \n",
    "    print(\"Intiger value is true\")\n",
    "elif opr==\"-\" and n1==n2 or(n1-n2)==5:  \n",
    "    print(\"Intiger value is true\")    \n",
    "else:\n",
    "    print(\"Intiger value is false\")\n",
    "   "
   ]
  },
  {
   "cell_type": "code",
   "execution_count": 10,
   "metadata": {},
   "outputs": [
    {
     "name": "stdout",
     "output_type": "stream",
     "text": [
      "Sum of positives number is:  36\n"
     ]
    }
   ],
   "source": [
    "# 11.Write a python program to sum of the first n positive integers\n",
    "a=int(input(\"Enter the number\"))\n",
    "f=1\n",
    "while(a>1):\n",
    "      f=f+a\n",
    "      a=a-1\n",
    "print(\"Sum of positives number is: \",f)"
   ]
  },
  {
   "cell_type": "code",
   "execution_count": 80,
   "metadata": {},
   "outputs": [
    {
     "name": "stdout",
     "output_type": "stream",
     "text": [
      "Length of word is=  12\n"
     ]
    }
   ],
   "source": [
    "# 12.Write a Python program to calculate the length of a string. \n",
    "a=input(\"Enter the word: \")\n",
    "print(\"Length of word is= \",len(a))"
   ]
  },
  {
   "cell_type": "code",
   "execution_count": 17,
   "metadata": {},
   "outputs": [
    {
     "name": "stdout",
     "output_type": "stream",
     "text": [
      "{'s': 1, 'a': 2, 'g': 1, 'r': 1}\n"
     ]
    }
   ],
   "source": [
    "# 13.Write a Python program to calculate the length of a string. \n",
    "a=input(\"Enter the word: \")\n",
    "dict={}\n",
    "for n in a:\n",
    "    if n in dict:\n",
    "      dict[n]+=1\n",
    "    else:\n",
    "      dict[n]=1    \n",
    "print(dict)\n"
   ]
  },
  {
   "cell_type": "code",
   "execution_count": null,
   "metadata": {},
   "outputs": [],
   "source": [
    "# 14.What are negative indexes and why are they used\n",
    "# The negative index is used to remove any new-line spaces from the string and \n",
    "# allow the string to except the last character that is given as S[:-1].\n",
    "# The negative index is also used to show the index to represent the string in\n",
    "# correct order."
   ]
  },
  {
   "cell_type": "code",
   "execution_count": 19,
   "metadata": {},
   "outputs": [
    {
     "name": "stdout",
     "output_type": "stream",
     "text": [
      "Count of occurences of a subtring in a string:  2\n"
     ]
    }
   ],
   "source": [
    "# 15.Write a Python program to count occurrences of a substring in a string.\n",
    "a=input(\"Enter the word: \")\n",
    "b=input(\"Enter the subtring word: \")\n",
    "print(\"Count of occurences of a subtring in a string: \",a.count(b))\n"
   ]
  },
  {
   "cell_type": "code",
   "execution_count": 36,
   "metadata": {},
   "outputs": [
    {
     "name": "stdout",
     "output_type": "stream",
     "text": [
      " lazy dog\n"
     ]
    }
   ],
   "source": [
    "# 16.Write a Python program to count the occurrences of each word in a given sentence \n",
    "a=input(\"Enter the word: \")\n",
    "b=input(\"Enter the subtring word: \")\n",
    "\n",
    "dict={}\n",
    "c=a.split(b)\n",
    "for b in c:\n",
    "   if b in dict:\n",
    "       dict[b]+=1\n",
    "   else:\n",
    "       dict[b]=1\n",
    "print(b)           \n",
    "\n"
   ]
  },
  {
   "cell_type": "code",
   "execution_count": 1,
   "metadata": {},
   "outputs": [
    {
     "ename": "",
     "evalue": "",
     "output_type": "error",
     "traceback": [
      "\u001b[1;31mCanceled future for execute_request message before replies were done"
     ]
    },
    {
     "ename": "",
     "evalue": "",
     "output_type": "error",
     "traceback": [
      "\u001b[1;31mThe Kernel crashed while executing code in the the current cell or a previous cell. Please review the code in the cell(s) to identify a possible cause of the failure. Click <a href='https://aka.ms/vscodeJupyterKernelCrash'>here</a> for more info. View Jupyter <a href='command:jupyter.viewOutput'>log</a> for further details."
     ]
    }
   ],
   "source": [
    "# 17.Write a Python program to get a single string from two given strings, \n",
    "#separated by a space and swap the first two characters of each string\n",
    "a=input(\"Enter the word: \")\n",
    "b=input(\"Enter the word: \")\n",
    "c=b[:2]+a[2:]\n",
    "d=a[:2]+b[2:]\n",
    "c,d=d,c\n",
    "print(c)\n",
    "print(d)\n",
    "\n"
   ]
  },
  {
   "cell_type": "code",
   "execution_count": 9,
   "metadata": {},
   "outputs": [
    {
     "name": "stdout",
     "output_type": "stream",
     "text": [
      "suthingly\n"
     ]
    }
   ],
   "source": [
    "# 18.Write a Python program to add 'ing' at the end of a given string (length should be at \n",
    "# least 3). If the given string already ends with 'ing' then add 'ly' instead if the string \n",
    "# length of the given string is less than 3, leave it unchanged. \n",
    "a=input(\"Enter the word\")\n",
    "l=len(a)\n",
    "if l>2:\n",
    "    if a[-3:]==\"ing\":\n",
    "        a+=\"ly\"\n",
    "    else:\n",
    "        a+=\"ing\"\n",
    "print(a)        \n"
   ]
  },
  {
   "cell_type": "code",
   "execution_count": 5,
   "metadata": {},
   "outputs": [
    {
     "name": "stdout",
     "output_type": "stream",
     "text": [
      "i am good\n"
     ]
    }
   ],
   "source": [
    "# 19.Write a Python program to find the first appearance of the substring 'not' and 'poor' \n",
    "# from a given string, if 'not' follows the 'poor', replace the whole 'not'...'poor' \n",
    "# substring with 'good'. Return the resulting string\n",
    "a=input(\"Enter the word\")\n",
    "b=a.find(\"not\")\n",
    "c=a.find(\"poor\")\n",
    "if c>b or b>c and b>0 and c>0:\n",
    "    a=a.replace(a[b:c+4],\"good\")\n",
    "    print(a)\n",
    "else:\n",
    "    print(a)    \n",
    "\n",
    "\n"
   ]
  },
  {
   "cell_type": "code",
   "execution_count": 20,
   "metadata": {},
   "outputs": [
    {
     "name": "stdout",
     "output_type": "stream",
     "text": [
      "rajkumar\n"
     ]
    }
   ],
   "source": [
    "# 20.Write a Python function that takes a list of words and returns the length of the \n",
    "# longest one.\n",
    "def find_longest_word(words_list):\n",
    "    word_len = []\n",
    "    for n in words_list:\n",
    "        word_len.append((len(n), n))\n",
    "    word_len.sort()\n",
    "    return word_len[-1][0], word_len[-1][1]\n",
    "result = find_longest_word([\"sagar\", \"rajkumar\", \"suresh\"])\n",
    "print(\"\\nLongest word: \",result[1])\n",
    "print(\"Length of the longest word: \",result[0])"
   ]
  },
  {
   "cell_type": "code",
   "execution_count": 53,
   "metadata": {},
   "outputs": [
    {
     "name": "stdout",
     "output_type": "stream",
     "text": [
      "sagar\n"
     ]
    }
   ],
   "source": [
    "# 21.Write a Python function to reverses a string if its length is a multiple of 4.\n",
    "a=input(\"Enter the word\")\n",
    "if len(a)%4==0:\n",
    "   print(a[::-1])\n",
    "else:\n",
    "    print(a)\n",
    " "
   ]
  },
  {
   "cell_type": "code",
   "execution_count": 61,
   "metadata": {},
   "outputs": [
    {
     "name": "stdout",
     "output_type": "stream",
     "text": [
      "Empty\n"
     ]
    }
   ],
   "source": [
    "# 22.Write a Python program to get a string made of the first 2 and the last 2 chars \n",
    "# from a given a string. If the string length is less than 2, return instead of the \n",
    "# empty string.\n",
    "a=input(\"Enter the word\")\n",
    "if len(a)<2:\n",
    "    print(\"Empty\")\n",
    "else: \n",
    "    print(a[0:2]+a[-2:])\n",
    "   "
   ]
  },
  {
   "cell_type": "code",
   "execution_count": 12,
   "metadata": {},
   "outputs": [
    {
     "ename": "TypeError",
     "evalue": "unsupported operand type(s) for /: 'str' and 'int'",
     "output_type": "error",
     "traceback": [
      "\u001b[1;31m---------------------------------------------------------------------------\u001b[0m",
      "\u001b[1;31mTypeError\u001b[0m                                 Traceback (most recent call last)",
      "\u001b[1;32mc:\\Users\\vishal\\Desktop\\mycode\\module2.ipynb Cell 21\u001b[0m in \u001b[0;36m<cell line: 2>\u001b[1;34m()\u001b[0m\n\u001b[0;32m      <a href='vscode-notebook-cell:/c%3A/Users/vishal/Desktop/mycode/module2.ipynb#ch0000020?line=0'>1</a>\u001b[0m a\u001b[39m=\u001b[39m\u001b[39minput\u001b[39m(\u001b[39m\"\u001b[39m\u001b[39mEnter the word\u001b[39m\u001b[39m\"\u001b[39m)\n\u001b[1;32m----> <a href='vscode-notebook-cell:/c%3A/Users/vishal/Desktop/mycode/module2.ipynb#ch0000020?line=1'>2</a>\u001b[0m b\u001b[39m=\u001b[39m(a\u001b[39m/\u001b[39;49m\u001b[39m2\u001b[39;49m)\n\u001b[0;32m      <a href='vscode-notebook-cell:/c%3A/Users/vishal/Desktop/mycode/module2.ipynb#ch0000020?line=2'>3</a>\u001b[0m m\u001b[39m=\u001b[39m\u001b[39minput\u001b[39m(\u001b[39m\"\u001b[39m\u001b[39mEnter the middle word\u001b[39m\u001b[39m\"\u001b[39m)\n\u001b[0;32m      <a href='vscode-notebook-cell:/c%3A/Users/vishal/Desktop/mycode/module2.ipynb#ch0000020?line=3'>4</a>\u001b[0m index \u001b[39m=\u001b[39m a\u001b[39m.\u001b[39mfind(b)\n",
      "\u001b[1;31mTypeError\u001b[0m: unsupported operand type(s) for /: 'str' and 'int'"
     ]
    }
   ],
   "source": [
    "# 23.Write a Python function to insert a string in the middle of a string.\n",
    "def insert_sting_middle(str, word):\n",
    "\treturn str[:2] + word + str[2:]\n",
    "\n",
    "print(insert_sting_middle('[[]]', 'Python'))\n"
   ]
  },
  {
   "cell_type": "code",
   "execution_count": 15,
   "metadata": {},
   "outputs": [],
   "source": []
  }
 ],
 "metadata": {
  "interpreter": {
   "hash": "b382c2e70c63eb292f1d2b1d983b6b6a89cfcf66809789434652997a8b16a95d"
  },
  "kernelspec": {
   "display_name": "Python 3.10.4 64-bit",
   "language": "python",
   "name": "python3"
  },
  "language_info": {
   "codemirror_mode": {
    "name": "ipython",
    "version": 3
   },
   "file_extension": ".py",
   "mimetype": "text/x-python",
   "name": "python",
   "nbconvert_exporter": "python",
   "pygments_lexer": "ipython3",
   "version": "3.10.4"
  },
  "orig_nbformat": 4
 },
 "nbformat": 4,
 "nbformat_minor": 2
}
