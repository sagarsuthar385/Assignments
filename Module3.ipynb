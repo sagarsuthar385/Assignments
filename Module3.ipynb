{
 "cells": [
  {
   "cell_type": "code",
   "execution_count": null,
   "metadata": {},
   "outputs": [],
   "source": [
    "# Q.1-What is List? How will you reverse a list? \n",
    "#Ans:-A list is a data structure in Python that is a mutable, or changeable,\n",
    "#  ordered sequence of elements. Each element or value that is inside of a list is called\n",
    "#  an item. Just as strings are defined as characters between quotes, lists are defined \n",
    "#  by having values between square brackets [ ] .\n",
    "\n",
    "#Reverse list\n",
    "lst=[1,2,3,4,5,6]\n",
    "lst.reverse()\n",
    "print(\"Reverse list= \",lst)\n"
   ]
  },
  {
   "cell_type": "code",
   "execution_count": null,
   "metadata": {},
   "outputs": [],
   "source": [
    "# Q.2-How will you remove last object from a list?\n",
    "\n",
    "lst=[1,2,3,4,5,6]\n",
    "a=lst[:-1]\n",
    "print(a)"
   ]
  },
  {
   "cell_type": "code",
   "execution_count": null,
   "metadata": {},
   "outputs": [],
   "source": [
    "# Q.3-Suppose list1 is [2, 33, 222, 14, and 25], what is list1 [-1].?\n",
    "#Ans:- Remove last element in that list.\n",
    "\n",
    "list1=[2,33,222,14,25]\n",
    "a=list1[:-1]\n",
    "print(a)"
   ]
  },
  {
   "cell_type": "code",
   "execution_count": null,
   "metadata": {},
   "outputs": [],
   "source": [
    "# Q.4-Differentiate between append () and extend () methods?\n",
    "#Ans-append() method adds an element to a list, and the extend() method concatenates\n",
    "#  the first list with another list (or another iterable). When append() method adds\n",
    "#  its argument as a single element to the end of a list, the length of the list \n",
    "# itself will increase by one."
   ]
  },
  {
   "cell_type": "code",
   "execution_count": null,
   "metadata": {},
   "outputs": [],
   "source": [
    "# Q.5-Write a Python function to get the largest number, smallest num and sum of all\n",
    "#  from a list. \n",
    "\n",
    "lst=[12,34,23,87,55]\n",
    "print(\"Largest num= \",max(lst))\n",
    "print(\"Smallest num= \",min(lst))\n",
    "sum=0\n",
    "for a in lst:\n",
    "    sum=sum+a\n",
    "print(\"Sum of all list element= \",sum)    \n",
    "  \n",
    "    \n"
   ]
  },
  {
   "cell_type": "code",
   "execution_count": null,
   "metadata": {},
   "outputs": [],
   "source": [
    "# Q.6-How will you compare two lists?\n",
    "\n",
    "l1=[4,6,7,8]\n",
    "l2=[4,8,7,6]\n",
    "l3=[4,6,7,5]\n",
    "def campare(l1,l2):\n",
    "    l1.sort()\n",
    "    l2.sort()\n",
    "    if l1==l2:\n",
    "        print(\"Both are equal\")\n",
    "    else:\n",
    "        print(\"Both are not equal\")\n",
    "def campare(l2,l3):\n",
    "    l2.sort()\n",
    "    l3.sort()\n",
    "    if l2==l3:\n",
    "        print(\"Both are equal\")\n",
    "    else:\n",
    "        print(\"Both are not equal\")        \n",
    "        \n",
    "\n",
    "campare(l1,l2)\n",
    "campare(l2,l3)"
   ]
  },
  {
   "cell_type": "code",
   "execution_count": null,
   "metadata": {},
   "outputs": [],
   "source": [
    "#Q.7-Write a Python program to count the number of strings where the string length is 2\n",
    "#  or more and the first and last character are same from a given list of strings. \n",
    "\n",
    "\n",
    "lst=[\"saras\",\"suresh\",\"ABA\",\"XYZ\"]\n",
    "count=0\n",
    "for c in lst:\n",
    "    if len(c)>1 and c[0]==c[-1]:\n",
    "        count+=1\n",
    "print(\"Count= \",count)\n"
   ]
  },
  {
   "cell_type": "code",
   "execution_count": null,
   "metadata": {},
   "outputs": [],
   "source": [
    "# Q.8-Write a Python program to remove duplicates from a list.\n",
    "\n",
    "a = [10,20,30,20,10,50,60,40,80,50,40]\n",
    "d=[]\n",
    "for x  in a:\n",
    "    if x  not in d:\n",
    "        d.append(x)\n",
    "print(d)       \n",
    "\n",
    "\n"
   ]
  },
  {
   "cell_type": "code",
   "execution_count": null,
   "metadata": {},
   "outputs": [],
   "source": [
    "# Q.9-Write a Python program to check a list is empty or not.\n",
    "\n",
    "a = [10,20,30,20,10,50,60,40,80,50,40]\n",
    "if len(a)==0:\n",
    "    print(\"List is Empty\")\n",
    "else:\n",
    "    print(\"Total elements in list= \",len(a))    \n"
   ]
  },
  {
   "cell_type": "code",
   "execution_count": null,
   "metadata": {},
   "outputs": [],
   "source": [
    "# Q.10-Write a Python function that takes two lists and returns true if they have at least\n",
    "#  one common member.\n",
    "\n",
    "a=[1,3,4,5,6]\n",
    "b=[1,8,4,6,9]\n",
    "for x in a:\n",
    "    for y in b:\n",
    "        if x==y:\n",
    "         print(\"True\")\n",
    "\n",
    "       "
   ]
  },
  {
   "cell_type": "code",
   "execution_count": null,
   "metadata": {},
   "outputs": [],
   "source": [
    "# Q.11-Write a Python program to generate and print a list of first and last 5 elements \n",
    "# where the values are square of numbers between 1 and 30.\n",
    "\n",
    "a=[]\n",
    "for i in range(1,31):\n",
    "    a.append(i**2)\n",
    "print(a[:5])\n",
    "print(a[-5:])\n",
    "\n",
    "\n"
   ]
  },
  {
   "cell_type": "code",
   "execution_count": null,
   "metadata": {},
   "outputs": [],
   "source": [
    "# Q.12-Write a Python function that takes a list and returns a new list with unique \n",
    "# elements of the first list. \n",
    "\n",
    "a=[2,5,4,7,5,4,6,2,2,5,7,4]\n",
    "lst=[]\n",
    "for x in a:\n",
    "    if x not in lst:\n",
    "        lst.append(x)\n",
    "print(lst)        "
   ]
  },
  {
   "cell_type": "code",
   "execution_count": null,
   "metadata": {},
   "outputs": [],
   "source": [
    "# Q.13-Write a Python program to convert a list of characters into a string. \n",
    "\n",
    "a=[\"s\",\"a\",\"g\",\"a\",\"r\"]\n",
    "b=\"\".join(a)\n",
    "print(b)"
   ]
  },
  {
   "cell_type": "code",
   "execution_count": null,
   "metadata": {},
   "outputs": [],
   "source": [
    "# Q.14-Write a Python program to select an item randomly from a list.\n",
    "\n",
    "import random\n",
    "lst=[1,2,3,4,5]\n",
    "a=random.choice(lst)\n",
    "print(a)\n",
    "\n"
   ]
  },
  {
   "cell_type": "code",
   "execution_count": null,
   "metadata": {},
   "outputs": [],
   "source": [
    "# Q.15-Write a Python program to find the second smallest number in a list.\n",
    "\n",
    "a=[7,8,3,1,6,5,2]\n",
    "a.sort()\n",
    "b=a[1]\n",
    "print(b)\n"
   ]
  },
  {
   "cell_type": "code",
   "execution_count": null,
   "metadata": {},
   "outputs": [],
   "source": [
    "# Q.16-Write a Python program to get unique values from a list.\n",
    "\n",
    "my_list =[10, 20, 30, 40, 20, 50, 60, 40]\n",
    "print(\"Original List : \",my_list)\n",
    "my_set =set(my_list)\n",
    "my_new_list =list(my_set)\n",
    "print(\"List of unique numbers : \",my_new_list)\n"
   ]
  },
  {
   "cell_type": "code",
   "execution_count": null,
   "metadata": {},
   "outputs": [],
   "source": [
    "# Q.17-Write a Python program to check whether a set contains a sub set.\n",
    "a =[10, 20, 30, 40, 50, 60, 40]\n",
    "b=[10, 20, 30]\n",
    "set1=set(a)\n",
    "set2=set(b)\n",
    "print(\"b sublist of a= \",(set2.issubset(set1)))"
   ]
  },
  {
   "cell_type": "code",
   "execution_count": null,
   "metadata": {},
   "outputs": [],
   "source": [
    "# Q.18-Write a Python program to check whether a list contains a sub list.\n",
    "\n",
    "def is_Sublist(l, s):\n",
    "\tsub_set = False\n",
    "\tif s == []:\n",
    "\t\tsub_set = True\n",
    "\telif s == l:\n",
    "\t\tsub_set = True\n",
    "\telif len(s) > len(l):\n",
    "\t\tsub_set = False\n",
    "\n",
    "\telse:\n",
    "\t\tfor i in range(len(l)):\n",
    "\t\t\tif l[i] == s[0]:\n",
    "\t\t\t\tn = 1\n",
    "\t\t\t\twhile (n < len(s)) and (l[i+n] == s[n]):\n",
    "\t\t\t\t\tn += 1\n",
    "\t\t\t\t\n",
    "\t\t\t\tif n == len(s):\n",
    "\t\t\t\t\tsub_set = True\n",
    "\n",
    "\treturn sub_set\n",
    "\n",
    "a = [2,4,3,5,7]\n",
    "b = [4,3]\n",
    "c = [2,7]\n",
    "print(is_Sublist(a, b))\n",
    "print(is_Sublist(a, c))"
   ]
  },
  {
   "cell_type": "code",
   "execution_count": null,
   "metadata": {},
   "outputs": [],
   "source": [
    "# Q.19-Write a Python program to split a list into different variables.\n",
    "\n",
    "A=[(\"apple\",\"yes\",\"no\"),(\"milk\",\"yes\",\"no\"),(\"vegitable\",\"yes\",\"no\")]\n",
    "var1, var2, var3=A\n",
    "print(var1)\n",
    "print(var2)\n",
    "print(var3)\n",
    "\n"
   ]
  },
  {
   "cell_type": "code",
   "execution_count": null,
   "metadata": {},
   "outputs": [],
   "source": [
    "# Q.20-What is tuple? Difference between list and tuple.\n",
    "# Ans-Tuples are used to store multiple items in a single variable.A tuple is a collection\n",
    "#  which is ordered and unchangeable.\n",
    "# difference between the tuples and lists is that while the tuples are immutable objects\n",
    "#  the lists are mutable. This means that tuples cannot be changed while the lists can be\n",
    "#  modified. Tuples are more memory efficient than the lists"
   ]
  },
  {
   "cell_type": "code",
   "execution_count": null,
   "metadata": {},
   "outputs": [],
   "source": [
    "# Q.21-Write a Python program to create a tuple with different data types. \n",
    "\n",
    "A=(\"python\",3,1.3,True)\n",
    "print(A)\n",
    "print(\"Type= \",type(A))"
   ]
  },
  {
   "cell_type": "code",
   "execution_count": null,
   "metadata": {},
   "outputs": [],
   "source": [
    "# Q.22-Write a Python program to create a tuple with numbers.\n",
    "\n",
    "a= 1,2,3,4,5,6\n",
    "print(a)\n"
   ]
  },
  {
   "cell_type": "code",
   "execution_count": null,
   "metadata": {},
   "outputs": [],
   "source": [
    "# Q.23-Write a Python program to convert a tuple to a string.\n",
    "\n",
    "A=('s','a','g','a','r')\n",
    "str = ''\n",
    "for item in A:\n",
    "    str = str + item\n",
    "print(str)"
   ]
  },
  {
   "cell_type": "code",
   "execution_count": null,
   "metadata": {},
   "outputs": [],
   "source": [
    "# Q.24- Write a Python program to check whether an element exists within a tuple.\n",
    "\n",
    "A=('s','a','g','a','r')\n",
    "print('a' in A)\n",
    "print(9 in A)"
   ]
  },
  {
   "cell_type": "code",
   "execution_count": null,
   "metadata": {},
   "outputs": [],
   "source": [
    "# Q.25-Write a Python program to find the length of a tuple.\n",
    "\n",
    "A=('s','a','g','a','r')\n",
    "print(\"Length of A= \",len(A))"
   ]
  },
  {
   "cell_type": "code",
   "execution_count": null,
   "metadata": {},
   "outputs": [],
   "source": [
    "# Q.26-Write a Python program to convert a list to a tuple.\n",
    "\n",
    "A=['s','a','g','a','r']\n",
    "B=tuple(A)\n",
    "print(B)"
   ]
  },
  {
   "cell_type": "code",
   "execution_count": null,
   "metadata": {},
   "outputs": [],
   "source": [
    "# Q.27-Write a Python program to reverse a tuple.\n",
    "\n",
    "A=('s','a','g','a','r')\n",
    "b=reversed(A)\n",
    "print(\"Reverse of tuple= \",tuple(b))"
   ]
  },
  {
   "cell_type": "code",
   "execution_count": null,
   "metadata": {},
   "outputs": [],
   "source": [
    "# Q.28-Write a Python program to replace last value of tuples in a list.\n",
    "\n",
    "A= [(10, 20, 40), (40, 50, 60), (70, 80, 90)]\n",
    "print([b[:-1] + (100,) for b in A])"
   ]
  },
  {
   "cell_type": "code",
   "execution_count": null,
   "metadata": {},
   "outputs": [],
   "source": [
    "# Q.29-Write a Python program to find the repeated items of a tuple\n",
    "\n",
    "t = 2, 4, 5, 6, 2, 3, 4, 4, 7 ,4,4,45,6\n",
    "print(t)\n",
    "#return the number of times it appears in the tuple.\n",
    "count = t.count(4)\n",
    "print(\"Counts= \",count)"
   ]
  },
  {
   "cell_type": "code",
   "execution_count": null,
   "metadata": {},
   "outputs": [],
   "source": [
    "# Q.30-Write a Python program to remove an empty tuple(s) from a list of tuples\n",
    "\n",
    "def Remove(A):\n",
    "    for i in A:\n",
    "        if(len(i)==0):\n",
    "            A.remove(i)\n",
    "    return A\n",
    "A = [(), ('ram','15','8'), (), ('laxman', 'sita'),\n",
    "        ('krishna', 'akbar', '45'),()]\n",
    "print(Remove(A))\n"
   ]
  },
  {
   "cell_type": "code",
   "execution_count": null,
   "metadata": {},
   "outputs": [],
   "source": [
    "# Q.31-Write a Python program to unzip a list of tuples into individual lists. \n",
    "\n",
    "A=[(1,2),(3,4),(5,6),(7,8)]\n",
    "print(list(zip(*A)))"
   ]
  },
  {
   "cell_type": "code",
   "execution_count": null,
   "metadata": {},
   "outputs": [],
   "source": [
    "# Q.32-Write a Python program to convert a list of tuples into a dictionary. \n",
    "\n",
    "A = [(\"a\", 1), (\"b\", 2), (\"c\", 3), (\"d\", 1), (\"e\", 2), (\"f\", 1)]\n",
    "d={}\n",
    "for x,y in A:\n",
    "    d.setdefault(x,[]).append(y)\n",
    "print(d)\n"
   ]
  },
  {
   "cell_type": "code",
   "execution_count": null,
   "metadata": {},
   "outputs": [],
   "source": [
    "# Q.33-How will you create a dictionary using tuples in python ?\n",
    "\n",
    "A=((\"akash\", 10), (\"gaurav\", 12), (\"anand\", 14), (\"suraj\", 20), (\"akhil\", 25), (\"ashish\", 30))\n",
    "d=dict(A)\n",
    "print(d)"
   ]
  },
  {
   "cell_type": "code",
   "execution_count": null,
   "metadata": {},
   "outputs": [],
   "source": [
    "# Q.34-Write a Python script to sort (ascending and descending) a dictionary by value. \n",
    "\n",
    "import operator\n",
    "A = {1: 2, 3: 4, 4: 3, 2: 1, 0: 0}\n",
    "print('Original dictionary : ',A)\n",
    "d=sorted(A.items(),key=operator.itemgetter(1))\n",
    "print('Dictionary in ascending order by value : ',d)\n",
    "d=sorted(A.items(),key=operator.itemgetter(1),reverse=True)\n",
    "print('Dictionary in descending order by value : ',d)"
   ]
  },
  {
   "cell_type": "code",
   "execution_count": null,
   "metadata": {},
   "outputs": [],
   "source": [
    "# Q.35-Write a Python script to concatenate following dictionaries to create a new one.\n",
    "\n",
    "A={1:10,2:20}\n",
    "B={3:30,4:40}\n",
    "C={5:50,6:60}\n",
    "D={}\n",
    "for i in (A, B, C) :\n",
    "    D.update(i)\n",
    "print(D)\n"
   ]
  },
  {
   "cell_type": "code",
   "execution_count": null,
   "metadata": {},
   "outputs": [],
   "source": [
    "# Q.36-Write a Python script to check if a given key already exists in a dictionary.\n",
    "\n",
    "def key(x):\n",
    "    A={1:10, 2:20, 3:30, 4:40, 5:50, 6:60}\n",
    "    if x in A:\n",
    "        print('Key is present in the dictionary')\n",
    "    else:\n",
    "        print('Key is not present in the dictionary')\n",
    "\n",
    "key(4)\n",
    "key(9)"
   ]
  },
  {
   "cell_type": "code",
   "execution_count": null,
   "metadata": {},
   "outputs": [],
   "source": [
    "# Q.37-How Do You Traverse Through A Dictionary Object In Python? \n",
    "\n",
    "A={1:10, 2:20, 3:30, 4:40, 5:50, 6:60}\n",
    "for key in A:\n",
    "    print(A[key])"
   ]
  },
  {
   "cell_type": "code",
   "execution_count": null,
   "metadata": {},
   "outputs": [],
   "source": [
    "# Q.38-How Do You Check The Presence Of A Key In A Dictionary?\n",
    "\n",
    "def key(x):\n",
    "    A={1:10, 2:20, 3:30, 4:40, 5:50, 6:60}\n",
    "    if x in A:\n",
    "        print('Key is present in the dictionary')\n",
    "    else:\n",
    "        print('Key is not present in the dictionary')\n",
    "\n",
    "key(5)\n",
    "key(9)"
   ]
  },
  {
   "cell_type": "code",
   "execution_count": null,
   "metadata": {},
   "outputs": [],
   "source": [
    "# Q.39-Write a Python script to print a dictionary where the keys are numbers between\n",
    "#  1 and 15.\n",
    "\n",
    "A=dict()\n",
    "for x in range(1,16):\n",
    "    A[x]=x**2\n",
    "print(A) "
   ]
  },
  {
   "cell_type": "code",
   "execution_count": null,
   "metadata": {},
   "outputs": [],
   "source": [
    "# Q.40-Write a Python program to check multiple keys exists in a dictionary\n",
    "\n",
    "A={'s':'u','a':'g','j':'f','r':'o'}\n",
    "print(A.keys()>={'s','g'})\n",
    "print(A.keys()>={'s','j'})\n",
    "\n"
   ]
  },
  {
   "cell_type": "code",
   "execution_count": null,
   "metadata": {},
   "outputs": [],
   "source": [
    "# Q.41-Write a Python script to merge two Python dictionaries \n",
    "\n",
    "A={1:10, 2:20, 3:30, 4:40, 5:50, 6:60}\n",
    "B={'s':'u','a':'g','j':'f','r':'o'}\n",
    "c=A.copy()\n",
    "A.update(B)\n",
    "print(c)"
   ]
  },
  {
   "cell_type": "code",
   "execution_count": null,
   "metadata": {},
   "outputs": [],
   "source": [
    "# Q.42-Write a Python program to map two lists into a dictionar.\n",
    "\n",
    "A=[1,2,3,4,5,6]\n",
    "B=[10,20,30,40,50,60]\n",
    "print(dict(zip(A,B)))"
   ]
  },
  {
   "cell_type": "code",
   "execution_count": null,
   "metadata": {},
   "outputs": [],
   "source": [
    "# Q.43-Write a Python program to combine two dictionary adding values for common keys. \n",
    "\n",
    "A = {'a': 100, 'b': 200, 'c':300} \n",
    "B = {'a': 300, 'b': 200,'d':400}\n",
    "for key in B:\n",
    "    if key in A:\n",
    "        B[key]=B[key]+A[key]\n",
    "    else:\n",
    "        pass    \n",
    "print(B)        "
   ]
  },
  {
   "cell_type": "code",
   "execution_count": null,
   "metadata": {},
   "outputs": [],
   "source": [
    "# Q.44-Write a Python program to print all unique values in a dictionary.\n",
    "\n",
    "A=[{'a': 100, 'b': 200, 'c':300},{'a': 300, 'b': 200,'d':400}]\n",
    "b=set( val for dic in A for val in dic.values())\n",
    "print(b)"
   ]
  },
  {
   "cell_type": "code",
   "execution_count": null,
   "metadata": {},
   "outputs": [],
   "source": [
    "# Q.45-Why Do You Use the Zip () Method in Python? \n",
    "# Ans- zip() function creates an iterator that will aggregate elements from two \n",
    "# or more iterables. You can use the resulting iterator to quickly and consistently\n",
    "#  solve common programming problems, like creating dictionaries."
   ]
  },
  {
   "cell_type": "code",
   "execution_count": null,
   "metadata": {},
   "outputs": [],
   "source": [
    "# Q.46-Write a Python program to create and display all combinations of letters, selecting \n",
    "# each letter from a different key in a dictionary. \n",
    "\n",
    "import itertools      \n",
    "d ={'1':['a','b'], '2':['c','d']}\n",
    "for combo in itertools.product(*[d[k] for k in sorted(d.keys())]):\n",
    "    print(''.join(combo))"
   ]
  },
  {
   "cell_type": "code",
   "execution_count": null,
   "metadata": {},
   "outputs": [],
   "source": [
    "# Q.47-Write a Python program to find the highest 3 values in a dictionary ?\n",
    "\n",
    "from collections import Counter\n",
    "A={'1':10, '2':20, '3':30, '4':40, '5':50, '6':60}\n",
    "b=Counter(A)\n",
    "c=b.most_common(3)\n",
    "print(\"Keys: Values\")\n",
    "for i in c:\n",
    "    print( i[0],\" :\",i[1],\" \")\n",
    "\n"
   ]
  },
  {
   "cell_type": "code",
   "execution_count": null,
   "metadata": {},
   "outputs": [],
   "source": [
    "# Q.48-Write a Python program to combine values in python list of dictionaries. \n",
    "\n",
    "from collections import Counter\n",
    "A = [{'item': 'item1', 'amount': 400}, {'item': 'item2', 'amount': 300}, {'item': 'item1', 'amount': 750}]\n",
    "B = Counter()\n",
    "for d in A:\n",
    "    B[d['item']] += d['amount']\n",
    "print(B) "
   ]
  },
  {
   "cell_type": "code",
   "execution_count": null,
   "metadata": {},
   "outputs": [],
   "source": [
    "\n",
    "# Q.49-Write a Python program to create a dictionary from a string.\n",
    "\n",
    "from collections import*\n",
    "\n",
    "A=\"suresh\"\n",
    "c={}\n",
    "for l in A:\n",
    "    c[l]=c.get(l,0)+1\n",
    "print(c)    "
   ]
  },
  {
   "cell_type": "code",
   "execution_count": null,
   "metadata": {},
   "outputs": [],
   "source": [
    "# Q.50-Write a Python function to calculate the factorial of a number \n",
    "# (a nonnegative integer) \n",
    "\n",
    "def f(n):\n",
    "    if n == 0:\n",
    "        return 1\n",
    "    else:\n",
    "        return n * f(n-1)\n",
    "n=int(input(\"Input a number to compute the factiorial : \"))\n",
    "print(f(n))\n"
   ]
  },
  {
   "cell_type": "code",
   "execution_count": null,
   "metadata": {},
   "outputs": [],
   "source": [
    "# Q.51-Write a Python function to check whether a number is in a given range\n",
    "\n",
    "def check(n):\n",
    "    if n in range(1,10):\n",
    "        print(\"%s is in range\"%(n))\n",
    "    else:\n",
    "        print(\"The number is outside the given range.\")\n",
    "\n",
    "check(7)        \n",
    "    "
   ]
  },
  {
   "cell_type": "code",
   "execution_count": null,
   "metadata": {},
   "outputs": [],
   "source": [
    "# Q.52-Write a Python function to check whether a number is perfect or not. \n",
    "\n",
    "def perfact(n):\n",
    "    sum1 = 0\n",
    "    for i in range(1, n):\n",
    "        if(n % i == 0):\n",
    "            sum1 = sum1 + i\n",
    "    if (sum1 == n):\n",
    "        print(\"The number is a Perfect number!\")\n",
    "    else:\n",
    "        print(\"The number is not a Perfect number!\")\n",
    "\n",
    "\n",
    "n = int(input(\"Enter any number: \"))\n",
    "perfact(n)"
   ]
  },
  {
   "cell_type": "code",
   "execution_count": null,
   "metadata": {},
   "outputs": [],
   "source": [
    "# Q.53-Write a Python function that checks whether a passed string is palindrome or not.\n",
    "\n",
    "def isPalindrome(string):\n",
    "\tleft_pos = 0\n",
    "\tright_pos = len(string) - 1\n",
    "\t\n",
    "\twhile right_pos >= left_pos:\n",
    "\t\tif not string[left_pos] == string[right_pos]:\n",
    "\t\t\treturn False\n",
    "\t\tleft_pos += 1\n",
    "\t\tright_pos -= 1\n",
    "\treturn True\n",
    "print(isPalindrome('ragar'))"
   ]
  },
  {
   "cell_type": "code",
   "execution_count": null,
   "metadata": {},
   "outputs": [],
   "source": [
    "# Q.54-How do you perform pattern matching in Python? Explain \n",
    "\n",
    "import re\n",
    "search_string = \"Physicswala\"\n",
    "pattern = \"Physics\"\n",
    "match = re.match(pattern, search_string)\n",
    "\n",
    "if match:\n",
    "   print(\"Pattern matches: \", match.group())\n",
    "else:\n",
    "   print('Pattern not found')\n",
    "\n"
   ]
  },
  {
   "cell_type": "code",
   "execution_count": null,
   "metadata": {},
   "outputs": [],
   "source": [
    "# Q.55-What is lambda function in python? What we call a function which is incomplete version of a function? \n",
    "# Ans-In Python, a lambda function is a single-line function declared with no name, which can have any number\n",
    "#  of arguments, but it can only have one expression. Such a function is capable of behaving similarly to a \n",
    "# regular function declared using the Python's def keyword.\n",
    "\n",
    "#stub"
   ]
  },
  {
   "cell_type": "code",
   "execution_count": null,
   "metadata": {},
   "outputs": [],
   "source": [
    "# Q.56-How Many Basic Types Of Functions Are Available In Python? \n",
    "# Ans-There are two basic types of functions: built-in functions and user defined functions. The built-in \n",
    "# functions are part of the Python language; for instance dir , len , or abs . The user defined functions\n",
    "# are functions created with the def keyword."
   ]
  },
  {
   "cell_type": "code",
   "execution_count": null,
   "metadata": {},
   "outputs": [],
   "source": [
    "# Q.57-How can you pick a random item from a list or tuple? \n",
    "# Ans-In Python, you can randomly sample elements from a list with choice() , sample() , and choices() of \n",
    "# the random module. These functions can also be applied to a string and tuple. choice() returns one \n",
    "# random element, and sample() and choices() return a list of multiple random elements."
   ]
  },
  {
   "cell_type": "code",
   "execution_count": null,
   "metadata": {},
   "outputs": [],
   "source": [
    "# Q.58- How can you pick a random item from a range?\n",
    "# Ans-randrange() function to get a random integer number from the given exclusive range by specifying the\n",
    "#  increment. For example, random. randrange(0, 10, 2) will return any random number between 0 and 20 \n",
    "# (like 0, 2, 4, 6, 8).\n",
    "\n",
    "import random\n",
    "num1=random.randrange(10,50,5)\n",
    "print(num1)"
   ]
  },
  {
   "cell_type": "code",
   "execution_count": null,
   "metadata": {},
   "outputs": [],
   "source": [
    "# Q-59-How can you get a random number in python?\n",
    "# Ans-To generate random number in Python, randint() function is used. This function is defined in random module.\n",
    "\n",
    "import random\n",
    "num=random.randint(1,20)\n",
    "print(num)\n"
   ]
  },
  {
   "cell_type": "code",
   "execution_count": null,
   "metadata": {},
   "outputs": [],
   "source": [
    "# Q.60-How will you set the starting value in generating random numbers? \n",
    "# Ans-The random number generator needs a number to start with (a seed value), to be able to generate \n",
    "# a random number. By default the random number generator uses the current system time. Use the seed() \n",
    "# method to customize the start number of the random number generator.\n",
    "\n",
    "import random\n",
    "\n",
    "random.seed(10)\n",
    "print(random.random())\n",
    "random.seed(10)\n",
    "print(random.random())"
   ]
  },
  {
   "cell_type": "code",
   "execution_count": null,
   "metadata": {},
   "outputs": [],
   "source": [
    "# Q.61- How will you randomizes the items of a list in place? \n",
    "# Ans-The shuffle() method randomizes the items of a list in place.\n",
    "\n",
    "import random\n",
    "lst=[1,2,4,5,6,7,8,9]\n",
    "print(lst)\n",
    "random.shuffle(lst)\n",
    "print(lst)\n"
   ]
  },
  {
   "cell_type": "code",
   "execution_count": null,
   "metadata": {},
   "outputs": [],
   "source": [
    "# Q.62-Write a Python program to read a random line from a file.\n",
    "\n",
    "import random\n",
    "def line(fname):\n",
    "\tlines=open(fname).read().splitlines()\n",
    "\tprint(lines)\n",
    "\treturn random.choice(lines)\n",
    "\n",
    "print(line('Enter your file name when you read'))"
   ]
  },
  {
   "cell_type": "code",
   "execution_count": null,
   "metadata": {},
   "outputs": [],
   "source": [
    "# Q.63-Write a Python program to convert degree to radian.\n",
    "\n",
    "pi=22/7\n",
    "degree = float(input(\"Input degrees: \"))\n",
    "radian = degree*(pi/180)\n",
    "print('Convert degree to radian',radian)\n"
   ]
  },
  {
   "cell_type": "code",
   "execution_count": null,
   "metadata": {},
   "outputs": [],
   "source": [
    "# Q.64-Write a Python program to calculate the area of a trapezoid.\n",
    "\n",
    "A=float(input(\"Enter the first side value= \"))\n",
    "B=float(input(\"Enter the second side value= \"))\n",
    "H=float(input(\"Enter value of hignt= \"))\n",
    "f=((A+B)/2)*H\n",
    "print(\"Area of Trapezoid= \",f)"
   ]
  },
  {
   "cell_type": "code",
   "execution_count": null,
   "metadata": {},
   "outputs": [],
   "source": [
    "# Q.65-Write a Python program to calculate the area of a parallelogram.\n",
    "\n",
    "A = float(input('Length of base= '))\n",
    "H = float(input('Measurement of height= '))\n",
    "area = (A * H)\n",
    "print(\"Area of parallelogram= \", area)"
   ]
  },
  {
   "cell_type": "code",
   "execution_count": null,
   "metadata": {},
   "outputs": [],
   "source": [
    "# Q.66-Write a Python program to calculate surface volume and area of a cylinder.\n",
    "\n",
    "pi=22/7\n",
    "R=float(input(\"Enter radius of cylinder \"))\n",
    "H=float(input('Enter height of cylider= '))\n",
    "V=(pi*(R**2)*H)\n",
    "area=(2*pi*R*H)+(2*pi*(R**2))\n",
    "print(\"Area of cylinder= \",area)\n"
   ]
  },
  {
   "cell_type": "code",
   "execution_count": null,
   "metadata": {},
   "outputs": [],
   "source": [
    "# Q.67-Write a Python program to returns sum of all divisors of a number\n",
    "\n",
    "num=int(input(\"Enter your number\"))\n",
    "D=[]\n",
    "for i in range(1,num):\n",
    "    if (num%i)==0:\n",
    "        D.append(i)\n",
    "print(\"Sum of devisors= \",sum(D))\n",
    "\n",
    "    "
   ]
  },
  {
   "cell_type": "code",
   "execution_count": null,
   "metadata": {},
   "outputs": [],
   "source": [
    "# Q.68-Write a Python program to find the maximum and minimum numbers from the specified decimal numbers. \n",
    "\n",
    "A=(1.23,2.12,3.12,0.04,1.89,6.78,9.45)\n",
    "print(\"maximum number= \",max(A))\n",
    "print(\"Minimum number= \",min(A))"
   ]
  }
 ],
 "metadata": {
  "kernelspec": {
   "display_name": "Python 3.10.4 64-bit",
   "language": "python",
   "name": "python3"
  },
  "language_info": {
   "codemirror_mode": {
    "name": "ipython",
    "version": 3
   },
   "file_extension": ".py",
   "mimetype": "text/x-python",
   "name": "python",
   "nbconvert_exporter": "python",
   "pygments_lexer": "ipython3",
   "version": "3.10.4"
  },
  "orig_nbformat": 4,
  "vscode": {
   "interpreter": {
    "hash": "b382c2e70c63eb292f1d2b1d983b6b6a89cfcf66809789434652997a8b16a95d"
   }
  }
 },
 "nbformat": 4,
 "nbformat_minor": 2
}
