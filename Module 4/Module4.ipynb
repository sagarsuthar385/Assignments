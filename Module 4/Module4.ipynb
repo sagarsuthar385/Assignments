{
 "cells": [
  {
   "cell_type": "code",
   "execution_count": null,
   "metadata": {},
   "outputs": [],
   "source": [
    "# Q 1.What is File function in python? What is keywords to create and write file.\n",
    "# Ans-Python file object provides methods and attributes to access and manipulate files.\n",
    "#  Using file objects, we can read or write any files. Whenever we open a file to perform\n",
    "#  any operations on it, Python returns a file object. To create a file object in Python \n",
    "# use the built-in functions, such as open() and os.\n",
    "\n",
    "# Write Only ('w') : Open the file for writing. \n",
    "# Write and Read ('w+') : Open the file for reading and writing.\n"
   ]
  },
  {
   "cell_type": "code",
   "execution_count": null,
   "metadata": {},
   "outputs": [],
   "source": [
    "# Q 2.Write a Python program to read an entire text file.\n",
    "\n",
    "def read_file(fname):\n",
    "    f=open(fname)\n",
    "    print(f.read())\n",
    "    \n",
    "read_file(\"file.txt\")    \n"
   ]
  },
  {
   "cell_type": "code",
   "execution_count": null,
   "metadata": {},
   "outputs": [],
   "source": [
    "# Q 3.Write a Python program to append text to a file and display the text.\n",
    "\n",
    "def write_file(fname):\n",
    "    f=open(fname,\"a\")\n",
    "    print(f.write(\"hello\\n \"))\n",
    "    g=open(fname)\n",
    "    print(g.read())\n",
    "    \n",
    "write_file(\"file.txt\")   \n"
   ]
  },
  {
   "cell_type": "code",
   "execution_count": null,
   "metadata": {},
   "outputs": [],
   "source": [
    "# Q.4.Write a Python program to read first n lines of a file.\n",
    "\n",
    "def read_lines(fname,n):\n",
    "    f=open(fname)\n",
    "    line_num=n\n",
    "    for i in range(line_num):\n",
    "      print(f.readline())\n",
    "        \n",
    "read_lines(\"file.txt\",2)    "
   ]
  },
  {
   "cell_type": "code",
   "execution_count": null,
   "metadata": {},
   "outputs": [],
   "source": [
    "# Q.5.Write a Python program to read last n lines of a file.\n",
    "\n",
    "def read_lines(fname,n):\n",
    "    with open(fname) as f:\n",
    "       for l in (f.readlines() [-n:]):\n",
    "        print(l,end=\"\")\n",
    "      \n",
    "read_lines(\"file.txt\",3)   \n"
   ]
  },
  {
   "cell_type": "code",
   "execution_count": null,
   "metadata": {},
   "outputs": [],
   "source": [
    "# Q.6. Write a Python program to read a file line by line and store it into a list.\n",
    "\n",
    "def read_lines(fname):\n",
    "    f=open(fname)\n",
    "    print(f.readlines())\n",
    "        \n",
    "read_lines(\"file.txt\") "
   ]
  },
  {
   "cell_type": "code",
   "execution_count": null,
   "metadata": {},
   "outputs": [],
   "source": [
    "# Q.7.Write a Python program to read a file line by line store it into a variable.\n",
    "\n",
    "def read_lines(fname):\n",
    "    with open(fname) as f:\n",
    "       for l in (f.readlines()):\n",
    "        print(l,end=\"\")\n",
    "      \n",
    "read_lines(\"file.txt\")  "
   ]
  },
  {
   "cell_type": "code",
   "execution_count": null,
   "metadata": {},
   "outputs": [],
   "source": [
    "# Q.8.Write a python program to find the longest words. \n",
    "\n",
    "def longest_word(fname):\n",
    "    with open(fname) as f:\n",
    "      l=max(f.read().split())\n",
    "      print(l)\n",
    "      \n",
    "  \n",
    "longest_word(\"file.txt\")      "
   ]
  },
  {
   "cell_type": "code",
   "execution_count": null,
   "metadata": {},
   "outputs": [],
   "source": [
    "# Q.9.Write a Python program to count the number of lines in a text file. \n",
    "def num_of_lines(fname):\n",
    "    with open(fname) as f:\n",
    "        l=len(f.readlines())\n",
    "        print(l)\n",
    "        \n",
    "num_of_lines(\"file.txt\")        "
   ]
  },
  {
   "cell_type": "code",
   "execution_count": null,
   "metadata": {},
   "outputs": [],
   "source": [
    "# Q.10.Write a Python program to count the frequency of words in a file.\n",
    "\n",
    "from typing import Counter\n",
    "def count(fname):\n",
    "    with open(fname) as f:\n",
    "        l=Counter(f.read().split())\n",
    "        print(l)\n",
    "  \n",
    "count(\"file.txt\")        "
   ]
  },
  {
   "cell_type": "code",
   "execution_count": null,
   "metadata": {},
   "outputs": [],
   "source": [
    "# Q.11.Write a Python program to write a list to a file.\n",
    "\n",
    "num=[1,2,3,4,5,6,7]\n",
    "with open(\"file.txt\",\"w\") as f:\n",
    "    for l in num:\n",
    "       f.write(\"%s\\n\"% l)\n",
    "c=open(\"file.txt\")\n",
    "print(c.read())     \n"
   ]
  },
  {
   "cell_type": "code",
   "execution_count": null,
   "metadata": {},
   "outputs": [],
   "source": [
    "# Q.12.Write a Python program to copy the contents of a file to another file.\n",
    "\n",
    "with open(\"file.txt\",'r') as first,open(\"file2.txt\",'a') as second:\n",
    "     for line in first:\n",
    "         second.write(line)"
   ]
  },
  {
   "cell_type": "code",
   "execution_count": null,
   "metadata": {},
   "outputs": [],
   "source": [
    "# Q.13.Explain Exception handling? What is an Error in Python?\n",
    "# Ans:- Exception handling is the process of responding to unwanted or unexpected \n",
    "# events when a computer program runs. Exception handling deals with these events \n",
    "# to avoid the program or system crashing, and without this process, exceptions \n",
    "# would disrupt the normal operation of a program.\n",
    "\n",
    "# Error:-Errors are the problems in a program due to which the program will stop \n",
    "# the execution. On the other hand, exceptions are raised when some internal events\n",
    "# occur which changes the normal flow of the program. Two types of Error occurs in\n",
    "# python. Syntax errors. Logical errors (Exceptions)"
   ]
  },
  {
   "cell_type": "code",
   "execution_count": null,
   "metadata": {},
   "outputs": [],
   "source": [
    "# Q.14.How many except statements can a try-except block have? Name Some built-in\n",
    "# exception classes.\n",
    "# Ans:-There has to be at least one except statement.\n",
    "# name built- in exception :\n",
    "# 1. SyntaxError        - Raised when a syntax error occurs.\n",
    "# 2. TypeError\t        - Raised when two different types are combined.\n",
    "# 3. ValueError         - Raised when there is a wrong value in a specified data type.\t\n",
    "# 4. NameError\t        - Raised when a variable does not exist.\n",
    "# 5. IndexError\t        - Raised when an index of a sequence does not exist\n",
    "# 6. UnboundLocalError\t- Raised when a local variable is referenced before assignment."
   ]
  },
  {
   "cell_type": "code",
   "execution_count": null,
   "metadata": {},
   "outputs": [],
   "source": [
    "# Q.15.When will the else part of try-except-else be executed? \n",
    "# Ans:-The else part is executed when no exception occurs."
   ]
  },
  {
   "cell_type": "code",
   "execution_count": null,
   "metadata": {},
   "outputs": [],
   "source": [
    "# Q.16.Can one block of except statements handle multiple exception?\n",
    "# Ans:-Each type of exception can be specified directly.\n",
    "# There is no need to put it in a list."
   ]
  },
  {
   "cell_type": "code",
   "execution_count": null,
   "metadata": {},
   "outputs": [],
   "source": [
    "# Q.17.When is the finally block executed? \n",
    "# Ans:-The finally block always executes when the try block exits. This ensures that the \n",
    "# finally block is executed even if an unexpected exception occurs."
   ]
  },
  {
   "cell_type": "code",
   "execution_count": null,
   "metadata": {},
   "outputs": [],
   "source": [
    "# Q.18.What happens when „1‟== 1 is executed?\n",
    "# Ans:-It simply evaluates to false and does not raise any exception.\n",
    "\n",
    "\"1\"==1"
   ]
  },
  {
   "cell_type": "code",
   "execution_count": null,
   "metadata": {},
   "outputs": [],
   "source": [
    "# Q.19.How Do You Handle Exceptions With Try/Except/Finally In Python? \n",
    "# Explain with coding snippets.\n",
    "\n",
    "a=[\"python\",\"physics\",\"classical physics\"] \n",
    "try: \n",
    "    for i in range(4):\n",
    "        print(i,a[i])\n",
    "except:\n",
    "    print(\"invalid\")        \n",
    "         "
   ]
  },
  {
   "cell_type": "code",
   "execution_count": null,
   "metadata": {},
   "outputs": [],
   "source": [
    "# Q.20.Write python program that user to enter only odd numbers,\n",
    "# else will raise an exception. \n",
    "try:\n",
    "    a=int(input(\"Enter your number= \"))\n",
    "    m=a%2\n",
    "    if m>0:\n",
    "        print(\"This is an odd number\")\n",
    "    else:     \n",
    "        print(\"This is not an odd number\")    \n",
    "except ValueError:\n",
    "    print(\"Please enter right value\")            "
   ]
  },
  {
   "cell_type": "code",
   "execution_count": null,
   "metadata": {},
   "outputs": [],
   "source": [
    "# Q.21.What are oops concepts? Is multiple inheritance supported in java?\n",
    "# Ans:-Object-oriented programming is a model that provides different types of concepts, \n",
    "# such as inheritance, abstraction, polymorphism, etc. These concepts aim to implement\n",
    "# real-world entities in programs. They create working methods and variables to reuse \n",
    "# them without compromising security\n",
    "\n",
    "# The Java programming language supports multiple inheritance of type, which is the \n",
    "# ability of a class to implement more than one interface. An object can have multiple\n",
    "# types: the type of its own class and the types of all the interfaces that the class\n",
    "# implements."
   ]
  },
  {
   "cell_type": "code",
   "execution_count": null,
   "metadata": {},
   "outputs": [],
   "source": [
    "# Q.22.How to Define a Class in Python? What Is Self? Give An Example Of A Python Class.\n",
    "# Ans:-A Class is like an object constructor, or a \"blueprint\" for creating objects.\n",
    "# To create a class, use the keyword class\n",
    "\n",
    "# self:-The self parameter is a reference to the current instance of the class, and is \n",
    "# used to access variables that belongs to the class.\n",
    "\n",
    "# Example:-\n",
    "class my:\n",
    "    print(\"hello frd !!\")\n",
    "obj=my()    \n",
    "    "
   ]
  },
  {
   "cell_type": "code",
   "execution_count": null,
   "metadata": {},
   "outputs": [],
   "source": [
    "# Q.23.Write a Python class named Rectangle constructed by a length and width\n",
    "# and a method which will compute the area of a rectangle.\n",
    "\n",
    "class rectangle_constructed:\n",
    "    l=int(input(\"Enter the length of ractangle\"))\n",
    "    w=int(input(\"Enter the width of ractangle\"))\n",
    "    area=(l*w)\n",
    "    print(\"Area of ractangle= \",area)\n",
    "\n",
    "obj=rectangle_constructed()    "
   ]
  },
  {
   "cell_type": "code",
   "execution_count": null,
   "metadata": {},
   "outputs": [],
   "source": [
    "# Q.24.Write a Python class named Circle constructed by a radius and two\n",
    "# methods which will compute the area and the perimeter of a circle \n",
    "\n",
    "class circle_constructed:\n",
    "    r= int(input(\"Enter radius of circle\"))\n",
    "    area= ((22/7)*r**2)\n",
    "    perimeter= (2*r*(22/7))\n",
    "    print(\"Area of circle = \",area)\n",
    "    print(\"Perimeter of circle= \",perimeter)\n",
    "obj=circle_constructed()    "
   ]
  },
  {
   "cell_type": "code",
   "execution_count": null,
   "metadata": {},
   "outputs": [],
   "source": [
    "# Q.25.Explain Inheritance in Python with an example? What is init? \n",
    "# Or What Is A Constructor In Python? \n",
    "#example:- \n",
    "class person:\n",
    "    def __init__(self,fname,lname):\n",
    "        self.fname=fname\n",
    "        self.lname=lname\n",
    "    def printname(self):\n",
    "        print(self.fname)\n",
    "        print(self.lname)\n",
    "            \n",
    "obj=person(\"alex\",\"paul\")\n",
    "obj.printname() \n",
    "\n",
    "# init:- The init function is called every time an object is created from a class.\n",
    "# The init method lets the class initialize the object's attributes and serves no \n",
    "# other purpose. It is only used within classes \n",
    "\n",
    "# Constructor:- A constructor is a special type of method (function) \n",
    "# which is used to initialize the instance members of the class.       "
   ]
  },
  {
   "cell_type": "code",
   "execution_count": null,
   "metadata": {},
   "outputs": [],
   "source": [
    "# Q.26.What is Instantiation in terms of OOP terminology?\n",
    "# Ans:-In object-oriented programming (OOP), an object is essentially an \n",
    "# instance of a class. In OOP languages, a class is like a blueprint where \n",
    "# variables and methods are defined, and each time a new instance of the class\n",
    "# (instantiation) is created, an object gets created -- hence the term object-oriented.\n",
    "# All objects of a class have a particular set of associated variables or properties,\n",
    "# accessories or means to access those variables, and functions or methods."
   ]
  },
  {
   "cell_type": "code",
   "execution_count": null,
   "metadata": {},
   "outputs": [],
   "source": [
    "# Q.27.What is used to check whether an object o is an instance of class A?\n",
    "\n",
    "num=98\n",
    "result=isinstance(num,int)\n",
    "if result:\n",
    "    print(\"Yes\")\n",
    "else:\n",
    "    print(\"No\")    "
   ]
  }
 ],
 "metadata": {
  "kernelspec": {
   "display_name": "Python 3.10.6 64-bit",
   "language": "python",
   "name": "python3"
  },
  "language_info": {
   "codemirror_mode": {
    "name": "ipython",
    "version": 3
   },
   "file_extension": ".py",
   "mimetype": "text/x-python",
   "name": "python",
   "nbconvert_exporter": "python",
   "pygments_lexer": "ipython3",
   "version": "3.10.6"
  },
  "orig_nbformat": 4,
  "vscode": {
   "interpreter": {
    "hash": "b382c2e70c63eb292f1d2b1d983b6b6a89cfcf66809789434652997a8b16a95d"
   }
  }
 },
 "nbformat": 4,
 "nbformat_minor": 2
}
